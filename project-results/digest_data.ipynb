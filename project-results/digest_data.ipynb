{
 "cells": [
  {
   "cell_type": "code",
   "execution_count": null,
   "id": "15c5a5c9-8fab-46bc-bcf7-b21928989ba5",
   "metadata": {},
   "outputs": [],
   "source": [
    "import os\n",
    "import pandas as pd"
   ]
  },
  {
   "cell_type": "code",
   "execution_count": null,
   "id": "18e92680-8531-47e8-b006-3e8f439364d5",
   "metadata": {},
   "outputs": [],
   "source": [
    "control_folder = \"./control/\"\n",
    "wolfpack_folder = \"./wolfpack/\"\n",
    "lonewolf_folder = \"./lonewolf/\"\n",
    "summary_output = \"./summary.xlsx\""
   ]
  },
  {
   "cell_type": "code",
   "execution_count": null,
   "id": "b49710f9-0133-46b7-9957-15a9b77413e5",
   "metadata": {},
   "outputs": [],
   "source": [
    "def combine_results(label, data_directory):\n",
    "    # For all csvs in folder, read them into a separate df\n",
    "    data = None\n",
    "    for csv_file in os.scandir(data_directory):\n",
    "        if csv_file.is_file():\n",
    "            test = pd.read_csv(csv_file)\n",
    "            test = test.rename(columns={\"Unnamed: 0\":\"agent\"})\n",
    "            if data is None:\n",
    "                data = test\n",
    "            else:\n",
    "                data = pd.concat((data, test), ignore_index=True)\n",
    "\n",
    "    # Combine all dfs into a single df given averages of each agent\n",
    "    data_combined = data.groupby(data['agent']).mean().sort_values('avg_utility', ascending=False)\n",
    "    average_utility, std_avg_utility = data_combined.loc[:, 'avg_utility'].mean(), data_combined.loc[:, 'avg_utility'].std()\n",
    "    average_social_welfare, std_social_welfare = data_combined.loc[:, 'avg_social_welfare'].mean(), data_combined.loc[:, 'avg_social_welfare'].std()\n",
    "    print(label)\n",
    "    print(\"Average Utility of All Agents:\", round(average_utility, 3), \"Standard Dev:\", round(std_avg_utility, 3))\n",
    "    print(\"Average Social Welfare of All Agents:\", round(average_social_welfare, 3), \"Standard Dev:\", round(std_social_welfare, 3))\n",
    "    return data_combined"
   ]
  },
  {
   "cell_type": "code",
   "execution_count": null,
   "id": "0f1b2a86-2816-4e37-8599-d6a718874fd4",
   "metadata": {},
   "outputs": [],
   "source": [
    "# Digest the data\n",
    "control_data = combine_results(\"Control\", control_folder)\n",
    "wolfpack_data = combine_results(\"WolfpackAgent\", wolfpack_folder)\n",
    "lonewolf_data = combine_results(\"LoneWolfAgent\", lonewolf_folder)"
   ]
  },
  {
   "cell_type": "code",
   "execution_count": null,
   "id": "75e89f62-1035-430e-915f-20fc0104b19c",
   "metadata": {},
   "outputs": [],
   "source": [
    "# 3rd best in social welfare!\n",
    "wolfpack_data.sort_values('avg_social_welfare', ascending=False)"
   ]
  },
  {
   "cell_type": "code",
   "execution_count": null,
   "id": "b7726670-e1c1-4d6a-a379-7632d9981ae1",
   "metadata": {},
   "outputs": [],
   "source": [
    "# Below 50th percentile for avg_utility :(\n",
    "lonewolf_data"
   ]
  },
  {
   "cell_type": "code",
   "execution_count": null,
   "id": "3b2c09c7-ff4e-41ca-9374-bab0077449a4",
   "metadata": {},
   "outputs": [],
   "source": [
    "# Output summmary data for all tournament types\n",
    "summary_data = pd.concat([control_data.mean(), control_data.std(), lonewolf_data.mean(), lonewolf_data.std(), wolfpack_data.mean(), wolfpack_data.std()], axis=1)\n",
    "summary_data.columns = ['Control Mean', 'Control std', 'LoneWolfAgent Mean', 'LoneWolfAgent std', 'WolfpackAgent Mean', 'WolfpackAgent std']\n",
    "summary_data.to_excel(summary_output)"
   ]
  }
 ],
 "metadata": {
  "kernelspec": {
   "display_name": "Python 3 (ipykernel)",
   "language": "python",
   "name": "python3"
  },
  "language_info": {
   "codemirror_mode": {
    "name": "ipython",
    "version": 3
   },
   "file_extension": ".py",
   "mimetype": "text/x-python",
   "name": "python",
   "nbconvert_exporter": "python",
   "pygments_lexer": "ipython3",
   "version": "3.9.15"
  }
 },
 "nbformat": 4,
 "nbformat_minor": 5
}
